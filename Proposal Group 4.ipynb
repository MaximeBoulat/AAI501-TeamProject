{
 "cells": [
  {
   "cell_type": "markdown",
   "id": "78411edf",
   "metadata": {},
   "source": [
    "# Problem and Algorithms\n",
    "\n",
    "This project will explore using prediction algorithms to build an agent that can navigate a 2D space. The problem will be centered around the ability of the agent to find its way from a starting point to a goal while avoiding obstacles.\n",
    "\n",
    "The predicted variable will be direction to take and the input variables will be sensor data (surrounding tiles), position.\n",
    "\n",
    "We will use distance from goal as the fitness function.\n",
    "\n",
    "We will use A* to generate the values for response variable, the sensor data and the position data in the dataset.\n",
    "\n",
    "The algorithms we intend to use:\n",
    "\n",
    "- Classifiers\n",
    "- Bayesian networks\n",
    "- Genetic algorithms\n",
    "- Neural networks\n",
    "- Markov decision trees"
   ]
  },
  {
   "cell_type": "markdown",
   "id": "17249be8",
   "metadata": {},
   "source": [
    "# Specific related course topics\n",
    "\n",
    "The following course topics are relevant to this project:\n",
    "\n",
    "- search algorithms / cost functions\n",
    "- Bayesian networks\n",
    "- Deep learning algorithms (Neural Networks)"
   ]
  },
  {
   "cell_type": "markdown",
   "id": "a118ffd8",
   "metadata": {},
   "source": [
    "# Expected behaviors of the system and expected problems\n",
    "\n",
    "The expected behavior is that the robot will optimize a path from start to finish which avoids obstacles, minimizes collisions and minimizes the length of the path and the time it takes to reach the goal.\n",
    "\n",
    "Expected problems are:\n",
    "\n",
    "- Is the dataset sufficient?\n",
    "- Features (what is our target variable)\n",
    "- The fact that the dataset is a time-series, how do we account for that?"
   ]
  },
  {
   "cell_type": "markdown",
   "id": "56146e2b",
   "metadata": {},
   "source": [
    "# Issues we expect to focus on\n",
    "\n",
    "\n",
    "- How do we come up with a optimal schema for the training (what is the target variable, how do we handle the fact that the data contains datapoints for different runs)\n",
    "- What is the most appropriate algorithm for this path finding behavior (GLM, Bayesian, Deep Learning)\n",
    "- Tile-based vs continuous map\n",
    "- Choice of fitness function\n",
    "- Optimality"
   ]
  },
  {
   "cell_type": "markdown",
   "id": "af2ab517",
   "metadata": {},
   "source": [
    "# References\n",
    "\n",
    "\n",
    "* https://www.kaggle.com/datasets/ziya07/dynamic-indoor-robot-navigation-dataset?utm_source=chatgpt.com\n",
    "* https://www.researchgate.net/publication/4249881_Using_a_Genetic_Algorithm_to_Explore_A-like_Pathfinding_Algorithms\n",
    "* https://www.mdpi.com/2076-3417/13/3/1562?utm_source=chatgpt.com\n",
    "* https://www.kaggle.com/datasets/ziya07/dynamic-indoor-robot-navigation-dataset?utm_source=chatgpt.com\n"
   ]
  }
 ],
 "metadata": {
  "language_info": {
   "name": "python"
  }
 },
 "nbformat": 4,
 "nbformat_minor": 5
}
