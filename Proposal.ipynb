{
 "cells": [
  {
   "cell_type": "markdown",
   "id": "b615236d",
   "metadata": {},
   "source": [
    "# Project Proposal Group 4"
   ]
  },
  {
   "cell_type": "markdown",
   "id": "78411edf",
   "metadata": {},
   "source": [
    "## Problem and Algorithms\n",
    "\n",
    "In this project we discuss the problem of designing an algorithm to navigate a robot from a starting point to a goal in a physical space using data mining techniques.\n",
    "\n",
    "The algorithms involved will be linear regression / classifiers, Bayesian networks and deep learning algorithms."
   ]
  },
  {
   "cell_type": "markdown",
   "id": "17249be8",
   "metadata": {},
   "source": [
    "## Specific related course topics\n",
    "\n",
    "The following course topics are relevant to this project:\n",
    "- search algorithms / cost functions\n",
    "- linear regression / GLMs\n",
    "- Bayesian networks\n",
    "- Deep learning algorithms (Neural Networks?)"
   ]
  },
  {
   "cell_type": "markdown",
   "id": "a118ffd8",
   "metadata": {},
   "source": [
    "## Expected behaviors of the system and expected problems\n",
    "\n",
    "The expected behavior is that the robot will optimize a path from start to finish which avoids obstacles, minimizes collisions and minimizes the length of the path and the time it takes to reach the goal.\n",
    "\n",
    "Expected problems are:\n",
    "- Is the dataset sufficient?\n",
    "- Features (what is our target variable)\n",
    "- The fact that the dataset is a time-series, how do we account for that?"
   ]
  },
  {
   "cell_type": "markdown",
   "id": "56146e2b",
   "metadata": {},
   "source": [
    "## Issues we expect to focus on\n",
    "\n",
    "- How do we come up with a optimal schema for the training (what is the target variable, how do we handle the fact that the data contains datapoints for different runs)\n",
    "- What is the most appropriate algorithm for this path finding behavior (GLM, Bayesian, Deep Learning)"
   ]
  },
  {
   "cell_type": "markdown",
   "id": "af2ab517",
   "metadata": {},
   "source": [
    "# References"
   ]
  }
 ],
 "metadata": {
  "language_info": {
   "name": "python"
  }
 },
 "nbformat": 4,
 "nbformat_minor": 5
}
